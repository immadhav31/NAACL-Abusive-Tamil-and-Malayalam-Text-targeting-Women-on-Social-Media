{
 "cells": [
  {
   "cell_type": "code",
   "execution_count": 1,
   "metadata": {},
   "outputs": [
    {
     "data": {
      "image/png": "[encoded data removed]",
      "text/plain": [
       "<Figure size 640x480 with 1 Axes>"
      ]
     },
     "metadata": {},
     "output_type": "display_data"
    },
    {
     "name": "stdout",
     "output_type": "stream",
     "text": [
      "Training data saved to fasttext_train.txt\n",
      "Validation data saved to fasttext_dev.txt\n"
     ]
    }
   ],
   "source": [
    "import pandas as pd\n",
    "import re\n",
    "import fasttext\n",
    "import matplotlib.pyplot as plt\n",
    "\n",
    "malayalam_train = pd.read_csv('AWM_train.csv')\n",
    "tamil_train = pd.read_csv('AWT_train.csv')\n",
    "malayalam_dev = pd.read_csv('AWM_dev.csv')\n",
    "tamil_dev = pd.read_csv('AWT_dev.csv')\n",
    "\n",
    "malayalam_train['language'] = 'malayalam'\n",
    "tamil_train['language'] = 'tamil'\n",
    "malayalam_dev['language'] = 'malayalam'\n",
    "tamil_dev['language'] = 'tamil'\n",
    "\n",
    "train_data = pd.concat([malayalam_train, tamil_train], ignore_index=True)\n",
    "dev_data = pd.concat([malayalam_dev, tamil_dev], ignore_index=True)\n",
    "\n",
    "def preprocess_text(text):\n",
    "    text = re.sub(r'[^\\w\\s]', '', text)\n",
    "    text = re.sub(r'\\s+', ' ', text)\n",
    "    return text.strip()\n",
    "\n",
    "\n",
    "train_data['Text'] = train_data['Text'].apply(preprocess_text)\n",
    "dev_data['Text'] = dev_data['Text'].apply(preprocess_text)\n",
    "\n",
    "train_data['Class'].value_counts().plot(kind='bar', title=\"Class Distribution\", color=['skyblue', 'salmon'])\n",
    "plt.xlabel(\"Class\")\n",
    "plt.ylabel(\"Count\")\n",
    "plt.show()\n",
    "\n",
    "train_data['fasttext'] = train_data.apply(lambda row: f\"__label__{row['Class']} {row['Text']}\", axis=1)\n",
    "dev_data['fasttext'] = dev_data.apply(lambda row: f\"__label__{row['Class']} {row['Text']}\", axis=1)\n",
    "\n",
    "train_file = 'fasttext_train.txt'\n",
    "dev_file = 'fasttext_dev.txt'\n",
    "train_data['fasttext'].to_csv(train_file, index=False, header=False)\n",
    "dev_data['fasttext'].to_csv(dev_file, index=False, header=False)\n",
    "\n",
    "print(f\"Training data saved to {train_file}\")\n",
    "print(f\"Validation data saved to {dev_file}\")\n"
   ]
  },
  {
   "cell_type": "code",
   "execution_count": 2,
   "metadata": {},
   "outputs": [
    {
     "name": "stdout",
     "output_type": "stream",
     "text": [
      "Optimized FastText model trained and saved.\n",
      "Validation Results:\n",
      "Samples: 1227\n",
      "Precision: 0.7253\n",
      "Recall: 0.7253\n",
      "F1 Score: 0.7253\n"
     ]
    }
   ],
   "source": [
    "model = fasttext.train_supervised(\n",
    "    input=train_file,\n",
    "    lr=0.1,            \n",
    "    epoch=50,  \n",
    "    wordNgrams=2, \n",
    "    dim=300,       \n",
    "    loss=\"softmax\",     \n",
    "    bucket=2000000\n",
    ")\n",
    "\n",
    "model.save_model(\"optimized_fasttext_model.bin\")\n",
    "print(\"Optimized FastText model trained and saved.\")\n",
    "\n",
    "result = model.test(dev_file)\n",
    "\n",
    "print(\"Validation Results:\")\n",
    "print(f\"Samples: {result[0]}\")\n",
    "print(f\"Precision: {result[1]:.4f}\")\n",
    "print(f\"Recall: {result[2]:.4f}\")\n",
    "print(f\"F1 Score: {2 * result[1] * result[2] / (result[1] + result[2]):.4f}\")"
   ]
  },
  {
   "cell_type": "code",
   "execution_count": 3,
   "metadata": {},
   "outputs": [
    {
     "name": "stdout",
     "output_type": "stream",
     "text": [
      "Test predictions saved to fasttext2M_test_results.csv.\n"
     ]
    }
   ],
   "source": [
    "test_data = pd.read_csv('AWM_test_without_labels.csv')\n",
    "\n",
    "test_data['Text'] = test_data['Text'].apply(preprocess_text)\n",
    "\n",
    "test_data['predictions'] = [\n",
    "    model.predict(text)[0][0].replace('__label__', '') for text in test_data['Text']\n",
    "]\n",
    "\n",
    "output_file = 'fasttext2M_test_results.csv'\n",
    "test_data[['id','Text', 'predictions']].to_csv(\n",
    "    output_file, \n",
    "    index=False, \n",
    "    header=False, \n",
    "    encoding='utf-8' \n",
    ")\n",
    "print(f\"Test predictions saved to {output_file}.\")"
   ]
  },
  {
   "cell_type": "code",
   "execution_count": 4,
   "metadata": {},
   "outputs": [
    {
     "name": "stdout",
     "output_type": "stream",
     "text": [
      "   id                                               Text  predictions\n",
      "0   1                   സരജ നനറ ആര ആണ ആള ഇറകക പടപപകകക ആണ  Non-Abusive\n",
      "1   2  എതര അലകക വളപപചചല നനകക അർഹത ഇലലതതത അർഹത ഇലലനന ത...      Abusive\n",
      "2   3    50 ലകഷ കയയൽ വയകകൻ ഒരകകല യഗയത ഇലല റയസന അർഹചചത ആണ  Non-Abusive\n",
      "3   4  ബഗ ബസസൽ നങങളട അഭനയ എനതയരനനമരയജ പടടനന ചയയണട ഒര ...      Abusive\n",
      "4   5  അത അങങനയ നമമട ഉളളൽ നനമ ഉണടങകൽ പടചചൻ ഒനന ഇലലയമയ...  Non-Abusive\n"
     ]
    }
   ],
   "source": [
    "print(test_data.head(5))\n"
   ]
  }
 ],
 "metadata": {
  "kernelspec": {
   "display_name": "Python 3",
   "language": "python",
   "name": "python3"
  },
  "language_info": {
   "codemirror_mode": {
    "name": "ipython",
    "version": 3
   },
   "file_extension": ".py",
   "mimetype": "text/x-python",
   "name": "python",
   "nbconvert_exporter": "python",
   "pygments_lexer": "ipython3",
   "version": "3.11.9"
  }
 },
 "nbformat": 4,
 "nbformat_minor": 2
}
